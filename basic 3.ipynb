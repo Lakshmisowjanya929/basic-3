{
 "cells": [
  {
   "cell_type": "code",
   "execution_count": 2,
   "id": "cce10ec1-d573-4752-8444-1308291064f8",
   "metadata": {},
   "outputs": [
    {
     "name": "stdout",
     "output_type": "stream",
     "text": [
      "🔹 Accuracy: 1.0\n",
      "\n",
      "🔹 Classification Report:\n",
      "               precision    recall  f1-score   support\n",
      "\n",
      "           0       1.00      1.00      1.00         1\n",
      "           1       1.00      1.00      1.00         1\n",
      "\n",
      "    accuracy                           1.00         2\n",
      "   macro avg       1.00      1.00      1.00         2\n",
      "weighted avg       1.00      1.00      1.00         2\n",
      "\n"
     ]
    },
    {
     "name": "stderr",
     "output_type": "stream",
     "text": [
      "[nltk_data] Downloading package stopwords to\n",
      "[nltk_data]     C:\\Users\\DELL/nltk_data...\n",
      "[nltk_data]   Package stopwords is already up-to-date!\n"
     ]
    }
   ],
   "source": [
    "import pandas as pd\n",
    "import nltk\n",
    "import re\n",
    "from sklearn.feature_extraction.text import CountVectorizer\n",
    "from sklearn.model_selection import train_test_split\n",
    "from sklearn.naive_bayes import BernoulliNB\n",
    "from sklearn.metrics import classification_report, accuracy_score\n",
    "nltk.download('stopwords')\n",
    "from nltk.corpus import stopwords\n",
    "from nltk.stem.porter import PorterStemmer\n",
    "data={\n",
    "    \"comment\": [\n",
    "        \"I love this product, it’s amazing!\",\n",
    "        \"This is the worst thing I’ve ever bought.\",\n",
    "        \"Great customer service and fast delivery.\",\n",
    "        \"Not happy with the quality.\",\n",
    "        \"Absolutely fantastic experience!\",\n",
    "        \"Horrible. Would not recommend.\",\n",
    "        \"Very satisfied, will purchase again.\",\n",
    "        \"It was okay, nothing special.\",\n",
    "        \"Terrible, completely useless.\",\n",
    "        \"The product exceeded my expectations.\"\n",
    "    ],\n",
    "    \"sentiment\": [1, 0, 1, 0, 1, 0, 1, 0, 0, 1]  # 1 = Positive, 0 = Negative\n",
    "}\n",
    "df = pd.DataFrame(data)\n",
    "ps = PorterStemmer()\n",
    "corpus = []\n",
    "for i in range(len(df)):\n",
    "    comment = re.sub('[^a-zA-Z]', ' ', df['comment'][i])\n",
    "    comment = comment.lower()\n",
    "    comment = comment.split()\n",
    "    comment = [ps.stem(word) for word in comment if word not in stopwords.words('english')]\n",
    "    comment = ' '.join(comment)\n",
    "    corpus.append(comment)\n",
    "cv = CountVectorizer()\n",
    "X = cv.fit_transform(corpus).toarray()\n",
    "y = df['sentiment']\n",
    "X_train, X_test, y_train, y_test = train_test_split(\n",
    "    X, y, test_size=0.2, random_state=42, stratify=y)\n",
    "model = BernoulliNB()\n",
    "model.fit(X_train, y_train)\n",
    "y_pred = model.predict(X_test)\n",
    "print(\"🔹 Accuracy:\", accuracy_score(y_test, y_pred))\n",
    "print(\"\\n🔹 Classification Report:\\n\", classification_report(y_test, y_pred))"
   ]
  },
  {
   "cell_type": "code",
   "execution_count": null,
   "id": "acd9c334-2955-4f46-a3ab-9ed4bdf876bd",
   "metadata": {},
   "outputs": [],
   "source": []
  }
 ],
 "metadata": {
  "kernelspec": {
   "display_name": "Python 3 (ipykernel)",
   "language": "python",
   "name": "python3"
  },
  "language_info": {
   "codemirror_mode": {
    "name": "ipython",
    "version": 3
   },
   "file_extension": ".py",
   "mimetype": "text/x-python",
   "name": "python",
   "nbconvert_exporter": "python",
   "pygments_lexer": "ipython3",
   "version": "3.11.9"
  }
 },
 "nbformat": 4,
 "nbformat_minor": 5
}
